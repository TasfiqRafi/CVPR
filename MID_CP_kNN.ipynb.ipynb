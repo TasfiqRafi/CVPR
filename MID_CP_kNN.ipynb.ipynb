{
  "nbformat": 4,
  "nbformat_minor": 0,
  "metadata": {
    "colab": {
      "provenance": []
    },
    "kernelspec": {
      "name": "python3",
      "display_name": "Python 3"
    },
    "language_info": {
      "name": "python"
    }
  },
  "cells": [
    {
      "cell_type": "code",
      "source": [
        "from google.colab import drive\n",
        "drive.mount('/content/drive')"
      ],
      "metadata": {
        "colab": {
          "base_uri": "https://localhost:8080/"
        },
        "id": "78RRJ1nqkDc5",
        "outputId": "0a971c70-d4df-470e-e00c-ca0792729b8c"
      },
      "execution_count": 1,
      "outputs": [
        {
          "output_type": "stream",
          "name": "stdout",
          "text": [
            "Drive already mounted at /content/drive; to attempt to forcibly remount, call drive.mount(\"/content/drive\", force_remount=True).\n"
          ]
        }
      ]
    },
    {
      "cell_type": "code",
      "source": [
        "import os\n",
        "import numpy as np\n",
        "import random\n",
        "import matplotlib.pyplot as plt\n",
        "import cv2\n",
        "from tqdm import tqdm"
      ],
      "metadata": {
        "id": "aaR4wZnklFp0"
      },
      "execution_count": 2,
      "outputs": []
    },
    {
      "cell_type": "code",
      "source": [
        "DATA_PATH =\"/content/drive/MyDrive/test\""
      ],
      "metadata": {
        "id": "RRm6uq9slIPb"
      },
      "execution_count": 3,
      "outputs": []
    },
    {
      "cell_type": "code",
      "source": [
        "CATAGORIES=os.listdir(DATA_PATH)\n",
        "TRAIN_DATA =[]\n",
        "\n",
        "for c in CATAGORIES:\n",
        "  path=os.path.join(DATA_PATH,c)\n",
        "  for img in tqdm(os.listdir(path)):\n",
        "   img_arr = cv2.imread(os.path.join(path,img),cv2.IMREAD_GRAYSCALE)\n",
        "   TRAIN_DATA.append([img_arr,CATAGORIES.index(c)])\n",
        "\n",
        "\n",
        "print(len(TRAIN_DATA))\n",
        "random.shuffle(TRAIN_DATA)"
      ],
      "metadata": {
        "colab": {
          "base_uri": "https://localhost:8080/"
        },
        "id": "9Y4QWQ8Dlabt",
        "outputId": "427571fa-8dc5-4a60-c500-aabf6c650177"
      },
      "execution_count": 4,
      "outputs": [
        {
          "output_type": "stream",
          "name": "stderr",
          "text": [
            "100%|██████████| 1000/1000 [00:02<00:00, 486.64it/s]\n",
            "100%|██████████| 1000/1000 [00:16<00:00, 60.03it/s]\n",
            "100%|██████████| 1000/1000 [00:12<00:00, 80.61it/s]\n",
            "100%|██████████| 1000/1000 [00:12<00:00, 80.50it/s]\n",
            "100%|██████████| 1000/1000 [00:11<00:00, 84.99it/s]\n",
            "100%|██████████| 1000/1000 [00:12<00:00, 78.59it/s]\n",
            "100%|██████████| 1000/1000 [00:13<00:00, 73.91it/s]\n",
            "100%|██████████| 1000/1000 [00:11<00:00, 88.51it/s]\n",
            "100%|██████████| 1000/1000 [00:15<00:00, 64.06it/s]\n",
            "100%|██████████| 1000/1000 [00:13<00:00, 73.77it/s]"
          ]
        },
        {
          "output_type": "stream",
          "name": "stdout",
          "text": [
            "10000\n"
          ]
        },
        {
          "output_type": "stream",
          "name": "stderr",
          "text": [
            "\n"
          ]
        }
      ]
    },
    {
      "cell_type": "code",
      "source": [
        "plt.figure(figsize=(5,2))\n",
        "plt.imshow(TRAIN_DATA[1][0], cmap = 'gray', aspect='equal')\n",
        "plt.xlabel(c)"
      ],
      "metadata": {
        "colab": {
          "base_uri": "https://localhost:8080/",
          "height": 255
        },
        "id": "lEZ02Yv9mRMm",
        "outputId": "ce5a1576-5886-4474-e893-4b225ef84843"
      },
      "execution_count": 7,
      "outputs": [
        {
          "output_type": "execute_result",
          "data": {
            "text/plain": [
              "Text(0.5, 0, 'bird')"
            ]
          },
          "metadata": {},
          "execution_count": 7
        },
        {
          "output_type": "display_data",
          "data": {
            "text/plain": [
              "<Figure size 500x200 with 1 Axes>"
            ],
            "image/png": "[encoded data removed]"
          },
          "metadata": {}
        }
      ]
    }
  ]
}